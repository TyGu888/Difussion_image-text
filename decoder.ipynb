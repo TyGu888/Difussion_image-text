{
 "cells": [
  {
   "cell_type": "code",
   "execution_count": null,
   "metadata": {},
   "outputs": [
    {
     "name": "stderr",
     "output_type": "stream",
     "text": [
      "The attention mask and the pad token id were not set. As a consequence, you may observe unexpected behavior. Please pass your input's `attention_mask` to obtain reliable results.\n",
      "Setting `pad_token_id` to `eos_token_id`:50256 for open-end generation.\n"
     ]
    },
    {
     "ename": "IndexError",
     "evalue": "too many indices for tensor of dimension 1",
     "output_type": "error",
     "traceback": [
      "\u001b[1;31m---------------------------------------------------------------------------\u001b[0m",
      "\u001b[1;31mIndexError\u001b[0m                                Traceback (most recent call last)",
      "Cell \u001b[1;32mIn[1], line 34\u001b[0m\n\u001b[0;32m     32\u001b[0m \u001b[39m# Generate sentences from 384-dimensional vectors\u001b[39;00m\n\u001b[0;32m     33\u001b[0m input_vector \u001b[39m=\u001b[39m embeddings[\u001b[39m0\u001b[39m]\u001b[39m.\u001b[39munsqueeze(\u001b[39m0\u001b[39m)\n\u001b[1;32m---> 34\u001b[0m output_tokens \u001b[39m=\u001b[39m model\u001b[39m.\u001b[39;49mgenerate(input_vector, num_return_sequences\u001b[39m=\u001b[39;49m\u001b[39m1\u001b[39;49m, max_length\u001b[39m=\u001b[39;49m\u001b[39m50\u001b[39;49m)\n\u001b[0;32m     35\u001b[0m output_sentence \u001b[39m=\u001b[39m tokenizer\u001b[39m.\u001b[39mdecode(output_tokens[\u001b[39m0\u001b[39m], skip_special_tokens\u001b[39m=\u001b[39m\u001b[39mTrue\u001b[39;00m)\n",
      "Cell \u001b[1;32mIn[1], line 17\u001b[0m, in \u001b[0;36mVectorToSentenceModel.generate\u001b[1;34m(self, input_vectors, **kwargs)\u001b[0m\n\u001b[0;32m     15\u001b[0m \u001b[39mdef\u001b[39;00m \u001b[39mgenerate\u001b[39m(\u001b[39mself\u001b[39m, input_vectors, \u001b[39m*\u001b[39m\u001b[39m*\u001b[39mkwargs):\n\u001b[0;32m     16\u001b[0m     input_ids \u001b[39m=\u001b[39m \u001b[39mself\u001b[39m\u001b[39m.\u001b[39mlinear(input_vectors)\u001b[39m.\u001b[39margmax(dim\u001b[39m=\u001b[39m\u001b[39m-\u001b[39m\u001b[39m1\u001b[39m)\n\u001b[1;32m---> 17\u001b[0m     \u001b[39mreturn\u001b[39;00m \u001b[39mself\u001b[39m\u001b[39m.\u001b[39mgpt2\u001b[39m.\u001b[39mgenerate(input_ids, \u001b[39m*\u001b[39m\u001b[39m*\u001b[39mkwargs)\n",
      "File \u001b[1;32mf:\\anaconada\\envs\\torch\\lib\\site-packages\\torch\\utils\\_contextlib.py:115\u001b[0m, in \u001b[0;36mcontext_decorator.<locals>.decorate_context\u001b[1;34m(*args, **kwargs)\u001b[0m\n\u001b[0;32m    112\u001b[0m \u001b[39m@functools\u001b[39m\u001b[39m.\u001b[39mwraps(func)\n\u001b[0;32m    113\u001b[0m \u001b[39mdef\u001b[39;00m \u001b[39mdecorate_context\u001b[39m(\u001b[39m*\u001b[39margs, \u001b[39m*\u001b[39m\u001b[39m*\u001b[39mkwargs):\n\u001b[0;32m    114\u001b[0m     \u001b[39mwith\u001b[39;00m ctx_factory():\n\u001b[1;32m--> 115\u001b[0m         \u001b[39mreturn\u001b[39;00m func(\u001b[39m*\u001b[39margs, \u001b[39m*\u001b[39m\u001b[39m*\u001b[39mkwargs)\n",
      "File \u001b[1;32mf:\\anaconada\\envs\\torch\\lib\\site-packages\\transformers\\generation\\utils.py:1258\u001b[0m, in \u001b[0;36mGenerationMixin.generate\u001b[1;34m(self, inputs, generation_config, logits_processor, stopping_criteria, prefix_allowed_tokens_fn, synced_gpus, **kwargs)\u001b[0m\n\u001b[0;32m   1254\u001b[0m \u001b[39m# decoder-only models should use left-padding for generation\u001b[39;00m\n\u001b[0;32m   1255\u001b[0m \u001b[39mif\u001b[39;00m \u001b[39mnot\u001b[39;00m \u001b[39mself\u001b[39m\u001b[39m.\u001b[39mconfig\u001b[39m.\u001b[39mis_encoder_decoder:\n\u001b[0;32m   1256\u001b[0m     \u001b[39mif\u001b[39;00m (\n\u001b[0;32m   1257\u001b[0m         generation_config\u001b[39m.\u001b[39mpad_token_id \u001b[39mis\u001b[39;00m \u001b[39mnot\u001b[39;00m \u001b[39mNone\u001b[39;00m\n\u001b[1;32m-> 1258\u001b[0m         \u001b[39mand\u001b[39;00m torch\u001b[39m.\u001b[39msum(inputs_tensor[:, \u001b[39m-\u001b[39;49m\u001b[39m1\u001b[39;49m] \u001b[39m==\u001b[39m generation_config\u001b[39m.\u001b[39mpad_token_id) \u001b[39m>\u001b[39m \u001b[39m0\u001b[39m\n\u001b[0;32m   1259\u001b[0m     ):\n\u001b[0;32m   1260\u001b[0m         logger\u001b[39m.\u001b[39mwarning(\n\u001b[0;32m   1261\u001b[0m             \u001b[39m\"\u001b[39m\u001b[39mA decoder-only architecture is being used, but right-padding was detected! For correct \u001b[39m\u001b[39m\"\u001b[39m\n\u001b[0;32m   1262\u001b[0m             \u001b[39m\"\u001b[39m\u001b[39mgeneration results, please set `padding_side=\u001b[39m\u001b[39m'\u001b[39m\u001b[39mleft\u001b[39m\u001b[39m'\u001b[39m\u001b[39m` when initializing the tokenizer.\u001b[39m\u001b[39m\"\u001b[39m\n\u001b[0;32m   1263\u001b[0m         )\n\u001b[0;32m   1265\u001b[0m \u001b[39mif\u001b[39;00m \u001b[39mself\u001b[39m\u001b[39m.\u001b[39mconfig\u001b[39m.\u001b[39mis_encoder_decoder \u001b[39mand\u001b[39;00m \u001b[39m\"\u001b[39m\u001b[39mencoder_outputs\u001b[39m\u001b[39m\"\u001b[39m \u001b[39mnot\u001b[39;00m \u001b[39min\u001b[39;00m model_kwargs:\n\u001b[0;32m   1266\u001b[0m     \u001b[39m# if model is encoder decoder encoder_outputs are created\u001b[39;00m\n\u001b[0;32m   1267\u001b[0m     \u001b[39m# and added to `model_kwargs`\u001b[39;00m\n",
      "\u001b[1;31mIndexError\u001b[0m: too many indices for tensor of dimension 1"
     ]
    }
   ],
   "source": [
    "from transformers import GPT2LMHeadModel, GPT2Config, GPT2Tokenizer, GPT2LMHeadModel\n",
    "import torch\n",
    "import torch.nn as nn\n",
    "import pandas as pd\n",
    "class VectorToSentenceModel(nn.Module):\n",
    "    def __init__(self, config):\n",
    "        super(VectorToSentenceModel, self).__init__()\n",
    "        self.linear = nn.Linear(config.custom_input_size, config.hidden_size)\n",
    "        self.gpt2 = GPT2LMHeadModel(config,pad_token_id=tokenizer.eos_token_id)\n",
    "\n",
    "    def forward(self, input_vectors, labels=None):\n",
    "        input_embeds = self.linear(input_vectors)\n",
    "        return self.gpt2(inputs_embeds=input_embeds, labels=labels)\n",
    "\n",
    "    def generate(self, input_vectors, **kwargs):\n",
    "        input_embeds = self.linear(input_vectors)\n",
    "        return self.gpt2.generate(inputs_embeds=input_embeds, **kwargs)\n",
    "\n",
    "# Load tokenizer and set up configuration\n",
    "tokenizer = GPT2Tokenizer.from_pretrained('gpt2')\n",
    "config = GPT2Config.from_pretrained('gpt2')\n",
    "config.n_embd = 384  # Add custom attribute for input size\n",
    "\n",
    "# Initialize and train your model using your dataset of vector-sentence pairs\n",
    "model = VectorToSentenceModel(config)\n",
    "# (Add your training loop here)\n",
    "\n",
    "embeddings = torch.load('train_targets.pt')\n",
    "df = pd.read_csv('combined_dataframe.csv')\n",
    "target_texts = df['prompt'].tolist()\n",
    "\n",
    "# Generate sentences from 384-dimensional vectors\n",
    "input_vector = embeddings[0].unsqueeze(0)\n",
    "output_tokens = model.generate(input_vector, max_length=50)\n",
    "output_sentence = tokenizer.decode(output_tokens[0], skip_special_tokens=True)\n"
   ]
  }
 ],
 "metadata": {
  "kernelspec": {
   "display_name": "torch",
   "language": "python",
   "name": "python3"
  },
  "language_info": {
   "codemirror_mode": {
    "name": "ipython",
    "version": 3
   },
   "file_extension": ".py",
   "mimetype": "text/x-python",
   "name": "python",
   "nbconvert_exporter": "python",
   "pygments_lexer": "ipython3",
   "version": "3.10.9"
  },
  "orig_nbformat": 4
 },
 "nbformat": 4,
 "nbformat_minor": 2
}
